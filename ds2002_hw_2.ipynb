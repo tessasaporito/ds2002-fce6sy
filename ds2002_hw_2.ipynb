{
  "nbformat": 4,
  "nbformat_minor": 0,
  "metadata": {
    "colab": {
      "provenance": [],
      "authorship_tag": "ABX9TyNyV5yE3oBjaXWCiS9n08SC",
      "include_colab_link": true
    },
    "kernelspec": {
      "name": "python3",
      "display_name": "Python 3"
    },
    "language_info": {
      "name": "python"
    }
  },
  "cells": [
    {
      "cell_type": "markdown",
      "metadata": {
        "id": "view-in-github",
        "colab_type": "text"
      },
      "source": [
        "<a href=\"https://colab.research.google.com/github/tessasaporito/ds2002-fce6sy/blob/main/ds2002_hw_2.ipynb\" target=\"_parent\"><img src=\"https://colab.research.google.com/assets/colab-badge.svg\" alt=\"Open In Colab\"/></a>"
      ]
    },
    {
      "cell_type": "markdown",
      "source": [
        "Part 1"
      ],
      "metadata": {
        "id": "Vhfdbb7C7pNr"
      }
    },
    {
      "cell_type": "code",
      "execution_count": 69,
      "metadata": {
        "id": "Pd7qC-xE7mpk"
      },
      "outputs": [],
      "source": [
        "import sqlite3\n",
        "\n",
        "connection = sqlite3.connect('student_grades.db')\n",
        "\n",
        "cursor = connection.cursor()"
      ]
    },
    {
      "cell_type": "markdown",
      "source": [
        "Part 2"
      ],
      "metadata": {
        "id": "Fw2573lN7rDX"
      }
    },
    {
      "cell_type": "code",
      "source": [
        "cursor.execute('''\n",
        "CREATE TABLE IF NOT EXISTS students (\n",
        "    student_id INTEGER PRIMARY KEY AUTOINCREMENT,\n",
        "    first_name TEXT NOT NULL,\n",
        "    last_name TEXT NOT NULL\n",
        ")\n",
        "''')\n",
        "\n",
        "cursor.execute('''\n",
        "CREATE TABLE IF NOT EXISTS grades (\n",
        "    grade_id INTEGER PRIMARY KEY AUTOINCREMENT,\n",
        "    student_id INTEGER NOT NULL,\n",
        "    subject TEXT NOT NULL,\n",
        "    grade INTEGER NOT NULL,\n",
        "    FOREIGN KEY (student_id) REFERENCES students(student_id)\n",
        ")\n",
        "''')"
      ],
      "metadata": {
        "colab": {
          "base_uri": "https://localhost:8080/"
        },
        "id": "UH427LDZ7r6D",
        "outputId": "e2de8945-865a-4101-d0ce-9e198cebbcd9"
      },
      "execution_count": 70,
      "outputs": [
        {
          "output_type": "execute_result",
          "data": {
            "text/plain": [
              "<sqlite3.Cursor at 0x7eae8f4199c0>"
            ]
          },
          "metadata": {},
          "execution_count": 70
        }
      ]
    },
    {
      "cell_type": "markdown",
      "source": [
        "Part 3"
      ],
      "metadata": {
        "id": "j51MnXQh7tqi"
      }
    },
    {
      "cell_type": "code",
      "source": [
        "students_data = (\n",
        "    ('Alice', 'Johnson'),\n",
        "    ('Bob', 'Smith'),\n",
        "    ('Carol','White'),\n",
        "    ('David', 'Brown'),\n",
        "    ('Eve', 'Davis')\n",
        ")\n",
        "\n",
        "cursor.executemany('''\n",
        "INSERT INTO students (first_name, last_name) VALUES (?, ?)\n",
        "''', students_data)\n",
        "\n",
        "connection.commit()"
      ],
      "metadata": {
        "id": "HbzNYOQ07vTf"
      },
      "execution_count": 71,
      "outputs": []
    },
    {
      "cell_type": "code",
      "source": [
        "grades_data = (\n",
        "    (1, 'Math', 95),\n",
        "    (1, 'English', 88),\n",
        "    (1, 'History', 90),\n",
        "    (2, 'Math', 82),\n",
        "    (2, 'English', 76),\n",
        "    (2, 'History', 85),\n",
        "    (3, 'Math', 78),\n",
        "    (3, 'English', 82),\n",
        "    (3, 'History', 99),\n",
        "    (4, 'Math', 100),\n",
        "    (4, 'English', 94),\n",
        "    (4, 'History', 95),\n",
        "    (5, 'Math', 70),\n",
        "    (5, 'English', 73),\n",
        "    (5, 'History', 69),\n",
        "    )\n",
        "\n",
        "cursor.executemany('''\n",
        "INSERT INTO grades (student_id, subject, grade) VALUES (?,?,?)\n",
        "''', grades_data)\n",
        "\n",
        "connection.commit()"
      ],
      "metadata": {
        "id": "QVh5qjeh7xa8"
      },
      "execution_count": 72,
      "outputs": []
    },
    {
      "cell_type": "markdown",
      "source": [
        "Part 4"
      ],
      "metadata": {
        "id": "q8yNIH5YDQy8"
      }
    },
    {
      "cell_type": "code",
      "source": [
        "cursor.execute('''\n",
        "    SELECT students.first_name, students.last_name, grades.subject, grades.grade\n",
        "    FROM students\n",
        "    JOIN grades ON students.student_id = grades.student_id\n",
        "''')\n",
        "rows = cursor.fetchall()\n",
        "\n",
        "for row in rows:\n",
        "    print(row)"
      ],
      "metadata": {
        "colab": {
          "base_uri": "https://localhost:8080/"
        },
        "id": "dKmUzrfh7zaT",
        "outputId": "2a13b205-64d6-45f0-cce8-74bfccc959db"
      },
      "execution_count": 73,
      "outputs": [
        {
          "output_type": "stream",
          "name": "stdout",
          "text": [
            "('Alice', 'Johnson', 'Math', 95)\n",
            "('Alice', 'Johnson', 'English', 88)\n",
            "('Alice', 'Johnson', 'History', 90)\n",
            "('Bob', 'Smith', 'Math', 82)\n",
            "('Bob', 'Smith', 'English', 76)\n",
            "('Bob', 'Smith', 'History', 85)\n",
            "('Carol', 'White', 'Math', 78)\n",
            "('Carol', 'White', 'English', 82)\n",
            "('Carol', 'White', 'History', 99)\n",
            "('David', 'Brown', 'Math', 100)\n",
            "('David', 'Brown', 'English', 94)\n",
            "('David', 'Brown', 'History', 95)\n",
            "('Eve', 'Davis', 'Math', 70)\n",
            "('Eve', 'Davis', 'English', 73)\n",
            "('Eve', 'Davis', 'History', 69)\n",
            "('Alice', 'Johnson', 'Math', 95)\n",
            "('Alice', 'Johnson', 'English', 88)\n",
            "('Alice', 'Johnson', 'History', 90)\n",
            "('Bob', 'Smith', 'Math', 82)\n",
            "('Bob', 'Smith', 'English', 76)\n",
            "('Bob', 'Smith', 'History', 85)\n",
            "('Carol', 'White', 'Math', 78)\n",
            "('Carol', 'White', 'English', 82)\n",
            "('Carol', 'White', 'History', 99)\n",
            "('David', 'Brown', 'Math', 100)\n",
            "('David', 'Brown', 'English', 94)\n",
            "('David', 'Brown', 'History', 95)\n",
            "('Eve', 'Davis', 'Math', 70)\n",
            "('Eve', 'Davis', 'English', 73)\n",
            "('Eve', 'Davis', 'History', 69)\n",
            "('Alice', 'Johnson', 'Math', 95)\n",
            "('Alice', 'Johnson', 'English', 88)\n",
            "('Alice', 'Johnson', 'History', 90)\n",
            "('Bob', 'Smith', 'Math', 82)\n",
            "('Bob', 'Smith', 'English', 76)\n",
            "('Bob', 'Smith', 'History', 85)\n",
            "('Carol', 'White', 'Math', 78)\n",
            "('Carol', 'White', 'English', 82)\n",
            "('Carol', 'White', 'History', 99)\n",
            "('David', 'Brown', 'Math', 100)\n",
            "('David', 'Brown', 'English', 94)\n",
            "('David', 'Brown', 'History', 95)\n",
            "('Eve', 'Davis', 'Math', 70)\n",
            "('Eve', 'Davis', 'English', 73)\n",
            "('Eve', 'Davis', 'History', 69)\n",
            "('Alice', 'Johnson', 'Math', 95)\n",
            "('Alice', 'Johnson', 'English', 88)\n",
            "('Alice', 'Johnson', 'History', 90)\n",
            "('Bob', 'Smith', 'Math', 82)\n",
            "('Bob', 'Smith', 'English', 76)\n",
            "('Bob', 'Smith', 'History', 85)\n",
            "('Carol', 'White', 'Math', 78)\n",
            "('Carol', 'White', 'English', 82)\n",
            "('Carol', 'White', 'History', 99)\n",
            "('David', 'Brown', 'Math', 100)\n",
            "('David', 'Brown', 'English', 94)\n",
            "('David', 'Brown', 'History', 95)\n",
            "('Eve', 'Davis', 'Math', 70)\n",
            "('Eve', 'Davis', 'English', 73)\n",
            "('Eve', 'Davis', 'History', 69)\n"
          ]
        }
      ]
    },
    {
      "cell_type": "code",
      "source": [
        "cursor.execute('''\n",
        "    SELECT students.first_name, students.last_name, AVG(grades.grade)\n",
        "    FROM students\n",
        "    JOIN grades ON students.student_id = grades.student_id\n",
        "    GROUP BY students.student_id\n",
        "''')\n",
        "rows = cursor.fetchall()\n",
        "\n",
        "for row in rows:\n",
        "    print(row)"
      ],
      "metadata": {
        "colab": {
          "base_uri": "https://localhost:8080/"
        },
        "id": "6EXn_DwG71U8",
        "outputId": "078e9d72-f23a-4dbe-dfa3-9f3d5fea8f66"
      },
      "execution_count": 74,
      "outputs": [
        {
          "output_type": "stream",
          "name": "stdout",
          "text": [
            "('Alice', 'Johnson', 91.0)\n",
            "('Bob', 'Smith', 81.0)\n",
            "('Carol', 'White', 86.33333333333333)\n",
            "('David', 'Brown', 96.33333333333333)\n",
            "('Eve', 'Davis', 70.66666666666667)\n"
          ]
        }
      ]
    },
    {
      "cell_type": "code",
      "source": [
        "cursor.execute('''\n",
        "    SELECT students.first_name, students.last_name, AVG(grades.grade)\n",
        "    FROM students\n",
        "    JOIN grades ON students.student_id = grades.student_id\n",
        "    GROUP BY students.student_id\n",
        "    ORDER BY AVG(grades.grade) DESC\n",
        "    LIMIT 1\n",
        "''')\n",
        "row = cursor.fetchone()\n",
        "\n",
        "print(row)"
      ],
      "metadata": {
        "colab": {
          "base_uri": "https://localhost:8080/"
        },
        "id": "de-Fiy1d8Smp",
        "outputId": "9710721d-73cd-440e-f21b-531c773d1155"
      },
      "execution_count": 75,
      "outputs": [
        {
          "output_type": "stream",
          "name": "stdout",
          "text": [
            "('David', 'Brown', 96.33333333333333)\n"
          ]
        }
      ]
    },
    {
      "cell_type": "code",
      "source": [
        "cursor.execute('''\n",
        "    SELECT AVG(grades.grade)\n",
        "    FROM grades\n",
        "    WHERE grades.subject = 'Math'\n",
        "''')\n",
        "row = cursor.fetchone()\n",
        "\n",
        "print(row)"
      ],
      "metadata": {
        "colab": {
          "base_uri": "https://localhost:8080/"
        },
        "id": "aNKLMast8ezU",
        "outputId": "6099e02f-b169-46f7-cffa-c590ade649ca"
      },
      "execution_count": 76,
      "outputs": [
        {
          "output_type": "stream",
          "name": "stdout",
          "text": [
            "(85.0,)\n"
          ]
        }
      ]
    },
    {
      "cell_type": "code",
      "source": [
        "cursor.execute('''\n",
        "    SELECT students.first_name, students.last_name, grades.subject, grades.grade\n",
        "    FROM students\n",
        "    JOIN grades ON students.student_id = grades.student_id\n",
        "    WHERE grades.grade > 90\n",
        "''')\n",
        "rows = cursor.fetchall()\n",
        "\n",
        "for row in rows:\n",
        "    print(row)"
      ],
      "metadata": {
        "colab": {
          "base_uri": "https://localhost:8080/"
        },
        "id": "KVi3QKUE8rDi",
        "outputId": "6c9d123c-de55-4113-f119-42d00d52007a"
      },
      "execution_count": 77,
      "outputs": [
        {
          "output_type": "stream",
          "name": "stdout",
          "text": [
            "('Alice', 'Johnson', 'Math', 95)\n",
            "('Carol', 'White', 'History', 99)\n",
            "('David', 'Brown', 'Math', 100)\n",
            "('David', 'Brown', 'English', 94)\n",
            "('David', 'Brown', 'History', 95)\n",
            "('Alice', 'Johnson', 'Math', 95)\n",
            "('Carol', 'White', 'History', 99)\n",
            "('David', 'Brown', 'Math', 100)\n",
            "('David', 'Brown', 'English', 94)\n",
            "('David', 'Brown', 'History', 95)\n",
            "('Alice', 'Johnson', 'Math', 95)\n",
            "('Carol', 'White', 'History', 99)\n",
            "('David', 'Brown', 'Math', 100)\n",
            "('David', 'Brown', 'English', 94)\n",
            "('David', 'Brown', 'History', 95)\n",
            "('Alice', 'Johnson', 'Math', 95)\n",
            "('Carol', 'White', 'History', 99)\n",
            "('David', 'Brown', 'Math', 100)\n",
            "('David', 'Brown', 'English', 94)\n",
            "('David', 'Brown', 'History', 95)\n"
          ]
        }
      ]
    },
    {
      "cell_type": "markdown",
      "source": [
        "Part 5"
      ],
      "metadata": {
        "id": "CwD5SRuY9Il-"
      }
    },
    {
      "cell_type": "code",
      "source": [
        "cursor.execute('''\n",
        "SELECT students.student_id, students.first_name, students.last_name, grades.grade_id, grades.subject, grades.grade\n",
        "FROM students\n",
        "JOIN grades ON students.student_id = grades.student_id\n",
        "''')\n",
        "\n",
        "joined_data = cursor.fetchall()\n",
        "\n",
        "print(\"Joined table details:\")\n",
        "for row in joined_data:\n",
        "    print(row)"
      ],
      "metadata": {
        "colab": {
          "base_uri": "https://localhost:8080/"
        },
        "id": "iidgGkyN_yf_",
        "outputId": "088f54ef-5de7-4520-e2bf-afefbe479bc3"
      },
      "execution_count": 78,
      "outputs": [
        {
          "output_type": "stream",
          "name": "stdout",
          "text": [
            "Joined table details:\n",
            "(1, 'Alice', 'Johnson', 1, 'Math', 95)\n",
            "(1, 'Alice', 'Johnson', 2, 'English', 88)\n",
            "(1, 'Alice', 'Johnson', 3, 'History', 90)\n",
            "(2, 'Bob', 'Smith', 4, 'Math', 82)\n",
            "(2, 'Bob', 'Smith', 5, 'English', 76)\n",
            "(2, 'Bob', 'Smith', 6, 'History', 85)\n",
            "(3, 'Carol', 'White', 7, 'Math', 78)\n",
            "(3, 'Carol', 'White', 8, 'English', 82)\n",
            "(3, 'Carol', 'White', 9, 'History', 99)\n",
            "(4, 'David', 'Brown', 10, 'Math', 100)\n",
            "(4, 'David', 'Brown', 11, 'English', 94)\n",
            "(4, 'David', 'Brown', 12, 'History', 95)\n",
            "(5, 'Eve', 'Davis', 13, 'Math', 70)\n",
            "(5, 'Eve', 'Davis', 14, 'English', 73)\n",
            "(5, 'Eve', 'Davis', 15, 'History', 69)\n",
            "(1, 'Alice', 'Johnson', 16, 'Math', 95)\n",
            "(1, 'Alice', 'Johnson', 17, 'English', 88)\n",
            "(1, 'Alice', 'Johnson', 18, 'History', 90)\n",
            "(2, 'Bob', 'Smith', 19, 'Math', 82)\n",
            "(2, 'Bob', 'Smith', 20, 'English', 76)\n",
            "(2, 'Bob', 'Smith', 21, 'History', 85)\n",
            "(3, 'Carol', 'White', 22, 'Math', 78)\n",
            "(3, 'Carol', 'White', 23, 'English', 82)\n",
            "(3, 'Carol', 'White', 24, 'History', 99)\n",
            "(4, 'David', 'Brown', 25, 'Math', 100)\n",
            "(4, 'David', 'Brown', 26, 'English', 94)\n",
            "(4, 'David', 'Brown', 27, 'History', 95)\n",
            "(5, 'Eve', 'Davis', 28, 'Math', 70)\n",
            "(5, 'Eve', 'Davis', 29, 'English', 73)\n",
            "(5, 'Eve', 'Davis', 30, 'History', 69)\n",
            "(1, 'Alice', 'Johnson', 31, 'Math', 95)\n",
            "(1, 'Alice', 'Johnson', 32, 'English', 88)\n",
            "(1, 'Alice', 'Johnson', 33, 'History', 90)\n",
            "(2, 'Bob', 'Smith', 34, 'Math', 82)\n",
            "(2, 'Bob', 'Smith', 35, 'English', 76)\n",
            "(2, 'Bob', 'Smith', 36, 'History', 85)\n",
            "(3, 'Carol', 'White', 37, 'Math', 78)\n",
            "(3, 'Carol', 'White', 38, 'English', 82)\n",
            "(3, 'Carol', 'White', 39, 'History', 99)\n",
            "(4, 'David', 'Brown', 40, 'Math', 100)\n",
            "(4, 'David', 'Brown', 41, 'English', 94)\n",
            "(4, 'David', 'Brown', 42, 'History', 95)\n",
            "(5, 'Eve', 'Davis', 43, 'Math', 70)\n",
            "(5, 'Eve', 'Davis', 44, 'English', 73)\n",
            "(5, 'Eve', 'Davis', 45, 'History', 69)\n",
            "(1, 'Alice', 'Johnson', 46, 'Math', 95)\n",
            "(1, 'Alice', 'Johnson', 47, 'English', 88)\n",
            "(1, 'Alice', 'Johnson', 48, 'History', 90)\n",
            "(2, 'Bob', 'Smith', 49, 'Math', 82)\n",
            "(2, 'Bob', 'Smith', 50, 'English', 76)\n",
            "(2, 'Bob', 'Smith', 51, 'History', 85)\n",
            "(3, 'Carol', 'White', 52, 'Math', 78)\n",
            "(3, 'Carol', 'White', 53, 'English', 82)\n",
            "(3, 'Carol', 'White', 54, 'History', 99)\n",
            "(4, 'David', 'Brown', 55, 'Math', 100)\n",
            "(4, 'David', 'Brown', 56, 'English', 94)\n",
            "(4, 'David', 'Brown', 57, 'History', 95)\n",
            "(5, 'Eve', 'Davis', 58, 'Math', 70)\n",
            "(5, 'Eve', 'Davis', 59, 'English', 73)\n",
            "(5, 'Eve', 'Davis', 60, 'History', 69)\n"
          ]
        }
      ]
    },
    {
      "cell_type": "code",
      "source": [
        "import pandas as pd\n",
        "\n",
        "both = '''\n",
        "    SELECT students.first_name, students.last_name, grades.subject, grades.grade\n",
        "    FROM students\n",
        "    JOIN grades ON students.student_id = grades.student_id\n",
        "'''\n",
        "\n",
        "df = pd.read_sql_query(both, connection)\n",
        "\n",
        "df.head()"
      ],
      "metadata": {
        "colab": {
          "base_uri": "https://localhost:8080/",
          "height": 206
        },
        "id": "TbTvMW58BWPP",
        "outputId": "cde6a391-c91b-4d80-a670-709ad05a3337"
      },
      "execution_count": 79,
      "outputs": [
        {
          "output_type": "execute_result",
          "data": {
            "text/plain": [
              "  first_name last_name  subject  grade\n",
              "0      Alice   Johnson     Math     95\n",
              "1      Alice   Johnson  English     88\n",
              "2      Alice   Johnson  History     90\n",
              "3        Bob     Smith     Math     82\n",
              "4        Bob     Smith  English     76"
            ],
            "text/html": [
              "\n",
              "  <div id=\"df-1ec8274a-05e6-4a12-a882-fe890a954773\" class=\"colab-df-container\">\n",
              "    <div>\n",
              "<style scoped>\n",
              "    .dataframe tbody tr th:only-of-type {\n",
              "        vertical-align: middle;\n",
              "    }\n",
              "\n",
              "    .dataframe tbody tr th {\n",
              "        vertical-align: top;\n",
              "    }\n",
              "\n",
              "    .dataframe thead th {\n",
              "        text-align: right;\n",
              "    }\n",
              "</style>\n",
              "<table border=\"1\" class=\"dataframe\">\n",
              "  <thead>\n",
              "    <tr style=\"text-align: right;\">\n",
              "      <th></th>\n",
              "      <th>first_name</th>\n",
              "      <th>last_name</th>\n",
              "      <th>subject</th>\n",
              "      <th>grade</th>\n",
              "    </tr>\n",
              "  </thead>\n",
              "  <tbody>\n",
              "    <tr>\n",
              "      <th>0</th>\n",
              "      <td>Alice</td>\n",
              "      <td>Johnson</td>\n",
              "      <td>Math</td>\n",
              "      <td>95</td>\n",
              "    </tr>\n",
              "    <tr>\n",
              "      <th>1</th>\n",
              "      <td>Alice</td>\n",
              "      <td>Johnson</td>\n",
              "      <td>English</td>\n",
              "      <td>88</td>\n",
              "    </tr>\n",
              "    <tr>\n",
              "      <th>2</th>\n",
              "      <td>Alice</td>\n",
              "      <td>Johnson</td>\n",
              "      <td>History</td>\n",
              "      <td>90</td>\n",
              "    </tr>\n",
              "    <tr>\n",
              "      <th>3</th>\n",
              "      <td>Bob</td>\n",
              "      <td>Smith</td>\n",
              "      <td>Math</td>\n",
              "      <td>82</td>\n",
              "    </tr>\n",
              "    <tr>\n",
              "      <th>4</th>\n",
              "      <td>Bob</td>\n",
              "      <td>Smith</td>\n",
              "      <td>English</td>\n",
              "      <td>76</td>\n",
              "    </tr>\n",
              "  </tbody>\n",
              "</table>\n",
              "</div>\n",
              "    <div class=\"colab-df-buttons\">\n",
              "\n",
              "  <div class=\"colab-df-container\">\n",
              "    <button class=\"colab-df-convert\" onclick=\"convertToInteractive('df-1ec8274a-05e6-4a12-a882-fe890a954773')\"\n",
              "            title=\"Convert this dataframe to an interactive table.\"\n",
              "            style=\"display:none;\">\n",
              "\n",
              "  <svg xmlns=\"http://www.w3.org/2000/svg\" height=\"24px\" viewBox=\"0 -960 960 960\">\n",
              "    <path d=\"M120-120v-720h720v720H120Zm60-500h600v-160H180v160Zm220 220h160v-160H400v160Zm0 220h160v-160H400v160ZM180-400h160v-160H180v160Zm440 0h160v-160H620v160ZM180-180h160v-160H180v160Zm440 0h160v-160H620v160Z\"/>\n",
              "  </svg>\n",
              "    </button>\n",
              "\n",
              "  <style>\n",
              "    .colab-df-container {\n",
              "      display:flex;\n",
              "      gap: 12px;\n",
              "    }\n",
              "\n",
              "    .colab-df-convert {\n",
              "      background-color: #E8F0FE;\n",
              "      border: none;\n",
              "      border-radius: 50%;\n",
              "      cursor: pointer;\n",
              "      display: none;\n",
              "      fill: #1967D2;\n",
              "      height: 32px;\n",
              "      padding: 0 0 0 0;\n",
              "      width: 32px;\n",
              "    }\n",
              "\n",
              "    .colab-df-convert:hover {\n",
              "      background-color: #E2EBFA;\n",
              "      box-shadow: 0px 1px 2px rgba(60, 64, 67, 0.3), 0px 1px 3px 1px rgba(60, 64, 67, 0.15);\n",
              "      fill: #174EA6;\n",
              "    }\n",
              "\n",
              "    .colab-df-buttons div {\n",
              "      margin-bottom: 4px;\n",
              "    }\n",
              "\n",
              "    [theme=dark] .colab-df-convert {\n",
              "      background-color: #3B4455;\n",
              "      fill: #D2E3FC;\n",
              "    }\n",
              "\n",
              "    [theme=dark] .colab-df-convert:hover {\n",
              "      background-color: #434B5C;\n",
              "      box-shadow: 0px 1px 3px 1px rgba(0, 0, 0, 0.15);\n",
              "      filter: drop-shadow(0px 1px 2px rgba(0, 0, 0, 0.3));\n",
              "      fill: #FFFFFF;\n",
              "    }\n",
              "  </style>\n",
              "\n",
              "    <script>\n",
              "      const buttonEl =\n",
              "        document.querySelector('#df-1ec8274a-05e6-4a12-a882-fe890a954773 button.colab-df-convert');\n",
              "      buttonEl.style.display =\n",
              "        google.colab.kernel.accessAllowed ? 'block' : 'none';\n",
              "\n",
              "      async function convertToInteractive(key) {\n",
              "        const element = document.querySelector('#df-1ec8274a-05e6-4a12-a882-fe890a954773');\n",
              "        const dataTable =\n",
              "          await google.colab.kernel.invokeFunction('convertToInteractive',\n",
              "                                                    [key], {});\n",
              "        if (!dataTable) return;\n",
              "\n",
              "        const docLinkHtml = 'Like what you see? Visit the ' +\n",
              "          '<a target=\"_blank\" href=https://colab.research.google.com/notebooks/data_table.ipynb>data table notebook</a>'\n",
              "          + ' to learn more about interactive tables.';\n",
              "        element.innerHTML = '';\n",
              "        dataTable['output_type'] = 'display_data';\n",
              "        await google.colab.output.renderOutput(dataTable, element);\n",
              "        const docLink = document.createElement('div');\n",
              "        docLink.innerHTML = docLinkHtml;\n",
              "        element.appendChild(docLink);\n",
              "      }\n",
              "    </script>\n",
              "  </div>\n",
              "\n",
              "\n",
              "<div id=\"df-41333f75-b25a-4a47-9b4b-aaa6f0d788a6\">\n",
              "  <button class=\"colab-df-quickchart\" onclick=\"quickchart('df-41333f75-b25a-4a47-9b4b-aaa6f0d788a6')\"\n",
              "            title=\"Suggest charts\"\n",
              "            style=\"display:none;\">\n",
              "\n",
              "<svg xmlns=\"http://www.w3.org/2000/svg\" height=\"24px\"viewBox=\"0 0 24 24\"\n",
              "     width=\"24px\">\n",
              "    <g>\n",
              "        <path d=\"M19 3H5c-1.1 0-2 .9-2 2v14c0 1.1.9 2 2 2h14c1.1 0 2-.9 2-2V5c0-1.1-.9-2-2-2zM9 17H7v-7h2v7zm4 0h-2V7h2v10zm4 0h-2v-4h2v4z\"/>\n",
              "    </g>\n",
              "</svg>\n",
              "  </button>\n",
              "\n",
              "<style>\n",
              "  .colab-df-quickchart {\n",
              "      --bg-color: #E8F0FE;\n",
              "      --fill-color: #1967D2;\n",
              "      --hover-bg-color: #E2EBFA;\n",
              "      --hover-fill-color: #174EA6;\n",
              "      --disabled-fill-color: #AAA;\n",
              "      --disabled-bg-color: #DDD;\n",
              "  }\n",
              "\n",
              "  [theme=dark] .colab-df-quickchart {\n",
              "      --bg-color: #3B4455;\n",
              "      --fill-color: #D2E3FC;\n",
              "      --hover-bg-color: #434B5C;\n",
              "      --hover-fill-color: #FFFFFF;\n",
              "      --disabled-bg-color: #3B4455;\n",
              "      --disabled-fill-color: #666;\n",
              "  }\n",
              "\n",
              "  .colab-df-quickchart {\n",
              "    background-color: var(--bg-color);\n",
              "    border: none;\n",
              "    border-radius: 50%;\n",
              "    cursor: pointer;\n",
              "    display: none;\n",
              "    fill: var(--fill-color);\n",
              "    height: 32px;\n",
              "    padding: 0;\n",
              "    width: 32px;\n",
              "  }\n",
              "\n",
              "  .colab-df-quickchart:hover {\n",
              "    background-color: var(--hover-bg-color);\n",
              "    box-shadow: 0 1px 2px rgba(60, 64, 67, 0.3), 0 1px 3px 1px rgba(60, 64, 67, 0.15);\n",
              "    fill: var(--button-hover-fill-color);\n",
              "  }\n",
              "\n",
              "  .colab-df-quickchart-complete:disabled,\n",
              "  .colab-df-quickchart-complete:disabled:hover {\n",
              "    background-color: var(--disabled-bg-color);\n",
              "    fill: var(--disabled-fill-color);\n",
              "    box-shadow: none;\n",
              "  }\n",
              "\n",
              "  .colab-df-spinner {\n",
              "    border: 2px solid var(--fill-color);\n",
              "    border-color: transparent;\n",
              "    border-bottom-color: var(--fill-color);\n",
              "    animation:\n",
              "      spin 1s steps(1) infinite;\n",
              "  }\n",
              "\n",
              "  @keyframes spin {\n",
              "    0% {\n",
              "      border-color: transparent;\n",
              "      border-bottom-color: var(--fill-color);\n",
              "      border-left-color: var(--fill-color);\n",
              "    }\n",
              "    20% {\n",
              "      border-color: transparent;\n",
              "      border-left-color: var(--fill-color);\n",
              "      border-top-color: var(--fill-color);\n",
              "    }\n",
              "    30% {\n",
              "      border-color: transparent;\n",
              "      border-left-color: var(--fill-color);\n",
              "      border-top-color: var(--fill-color);\n",
              "      border-right-color: var(--fill-color);\n",
              "    }\n",
              "    40% {\n",
              "      border-color: transparent;\n",
              "      border-right-color: var(--fill-color);\n",
              "      border-top-color: var(--fill-color);\n",
              "    }\n",
              "    60% {\n",
              "      border-color: transparent;\n",
              "      border-right-color: var(--fill-color);\n",
              "    }\n",
              "    80% {\n",
              "      border-color: transparent;\n",
              "      border-right-color: var(--fill-color);\n",
              "      border-bottom-color: var(--fill-color);\n",
              "    }\n",
              "    90% {\n",
              "      border-color: transparent;\n",
              "      border-bottom-color: var(--fill-color);\n",
              "    }\n",
              "  }\n",
              "</style>\n",
              "\n",
              "  <script>\n",
              "    async function quickchart(key) {\n",
              "      const quickchartButtonEl =\n",
              "        document.querySelector('#' + key + ' button');\n",
              "      quickchartButtonEl.disabled = true;  // To prevent multiple clicks.\n",
              "      quickchartButtonEl.classList.add('colab-df-spinner');\n",
              "      try {\n",
              "        const charts = await google.colab.kernel.invokeFunction(\n",
              "            'suggestCharts', [key], {});\n",
              "      } catch (error) {\n",
              "        console.error('Error during call to suggestCharts:', error);\n",
              "      }\n",
              "      quickchartButtonEl.classList.remove('colab-df-spinner');\n",
              "      quickchartButtonEl.classList.add('colab-df-quickchart-complete');\n",
              "    }\n",
              "    (() => {\n",
              "      let quickchartButtonEl =\n",
              "        document.querySelector('#df-41333f75-b25a-4a47-9b4b-aaa6f0d788a6 button');\n",
              "      quickchartButtonEl.style.display =\n",
              "        google.colab.kernel.accessAllowed ? 'block' : 'none';\n",
              "    })();\n",
              "  </script>\n",
              "</div>\n",
              "\n",
              "    </div>\n",
              "  </div>\n"
            ],
            "application/vnd.google.colaboratory.intrinsic+json": {
              "type": "dataframe",
              "variable_name": "df",
              "summary": "{\n  \"name\": \"df\",\n  \"rows\": 60,\n  \"fields\": [\n    {\n      \"column\": \"first_name\",\n      \"properties\": {\n        \"dtype\": \"category\",\n        \"num_unique_values\": 5,\n        \"samples\": [\n          \"Bob\",\n          \"Eve\",\n          \"Carol\"\n        ],\n        \"semantic_type\": \"\",\n        \"description\": \"\"\n      }\n    },\n    {\n      \"column\": \"last_name\",\n      \"properties\": {\n        \"dtype\": \"category\",\n        \"num_unique_values\": 5,\n        \"samples\": [\n          \"Smith\",\n          \"Davis\",\n          \"White\"\n        ],\n        \"semantic_type\": \"\",\n        \"description\": \"\"\n      }\n    },\n    {\n      \"column\": \"subject\",\n      \"properties\": {\n        \"dtype\": \"category\",\n        \"num_unique_values\": 3,\n        \"samples\": [\n          \"Math\",\n          \"English\",\n          \"History\"\n        ],\n        \"semantic_type\": \"\",\n        \"description\": \"\"\n      }\n    },\n    {\n      \"column\": \"grade\",\n      \"properties\": {\n        \"dtype\": \"number\",\n        \"std\": 10,\n        \"min\": 69,\n        \"max\": 100,\n        \"num_unique_values\": 13,\n        \"samples\": [\n          73,\n          94,\n          95\n        ],\n        \"semantic_type\": \"\",\n        \"description\": \"\"\n      }\n    }\n  ]\n}"
            }
          },
          "metadata": {},
          "execution_count": 79
        }
      ]
    },
    {
      "cell_type": "code",
      "source": [
        "import matplotlib.pyplot as plt\n",
        "\n",
        "cursor.execute('''\n",
        "    SELECT students.first_name, students.last_name, AVG(grades.grade)\n",
        "    FROM students\n",
        "    JOIN grades ON students.student_id = grades.student_id\n",
        "    GROUP BY students.student_id\n",
        "''')\n",
        "rows = cursor.fetchall()\n",
        "\n",
        "student_grade_df = pd.DataFrame(rows, columns=['first_name', 'last_name', 'avg_grade'])\n",
        "\n",
        "\n",
        "plt.figure(figsize=(9, 5))\n",
        "plt.bar(student_grade_df['first_name'], student_grade_df['avg_grade'], color='skyblue')\n",
        "plt.xlabel('Student (First Name)')\n",
        "plt.ylabel('Average Grade')\n",
        "plt.title('Average Grades by Student')\n",
        "plt.show()"
      ],
      "metadata": {
        "colab": {
          "base_uri": "https://localhost:8080/",
          "height": 487
        },
        "id": "6KX0y0puH1nr",
        "outputId": "59af0ce3-f761-472a-e3c6-292f99c9af01"
      },
      "execution_count": 86,
      "outputs": [
        {
          "output_type": "display_data",
          "data": {
            "text/plain": [
              "<Figure size 900x500 with 1 Axes>"
            ],
            "image/png": "[encoded data removed]"
          },
          "metadata": {}
        }
      ]
    },
    {
      "cell_type": "code",
      "source": [
        "cursor.execute('''\n",
        "    SELECT grades.subject, AVG(grades.grade)\n",
        "    FROM grades\n",
        "    GROUP BY grades.subject\n",
        "''')\n",
        "rows = cursor.fetchall()\n",
        "\n",
        "subject_grade_df = pd.DataFrame(rows, columns=['subject', 'avg_grade'])\n",
        "\n",
        "\n",
        "plt.figure(figsize=(9, 5))\n",
        "plt.bar(subject_grade_df['subject'], subject_grade_df['avg_grade'], color='lightgreen')\n",
        "plt.xlabel('Subject')\n",
        "plt.ylabel('Average Grade')\n",
        "plt.title('Average Grades by Subject')\n",
        "plt.show()"
      ],
      "metadata": {
        "colab": {
          "base_uri": "https://localhost:8080/",
          "height": 487
        },
        "id": "4qbb2E01Gu-H",
        "outputId": "76c1bde9-3568-4b00-b8fc-8791bf95c0ba"
      },
      "execution_count": 87,
      "outputs": [
        {
          "output_type": "display_data",
          "data": {
            "text/plain": [
              "<Figure size 900x500 with 1 Axes>"
            ],
            "image/png": "[encoded data removed]"
          },
          "metadata": {}
        }
      ]
    }
  ]
}