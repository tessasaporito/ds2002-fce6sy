{
  "cells": [
    {
      "cell_type": "markdown",
      "metadata": {
        "id": "view-in-github",
        "colab_type": "text"
      },
      "source": [
        "<a href=\"https://colab.research.google.com/github/tessasaporito/ds2002-fce6sy/blob/main/Labs_Universities_and_Stock_API_Workshop.ipynb\" target=\"_parent\"><img src=\"https://colab.research.google.com/assets/colab-badge.svg\" alt=\"Open In Colab\"/></a>"
      ]
    },
    {
      "cell_type": "markdown",
      "metadata": {
        "id": "YHwTFoDB04MH"
      },
      "source": [
        "# Using API Calls in Python with JSON and DataFrames - University Data Example\n",
        "In this notebook, we will make API requests to the Hipolabs Universities API, parse the JSON response, and convert it into Pandas DataFrames for analysis and visualization."
      ],
      "id": "YHwTFoDB04MH"
    },
    {
      "cell_type": "markdown",
      "metadata": {
        "id": "CDPNEdDF04MJ"
      },
      "source": [
        "### Step 1: Making the API Call to Fetch University Data"
      ],
      "id": "CDPNEdDF04MJ"
    },
    {
      "cell_type": "code",
      "execution_count": null,
      "metadata": {
        "id": "pY6qqMVA04MJ"
      },
      "outputs": [],
      "source": [
        "import requests\n",
        "import json\n",
        "import pandas as pd\n",
        "\n",
        "# API endpoint for fetching universities\n",
        "url = \"http://universities.hipolabs.com/search?country=United%20States\"\n",
        "\n",
        "# Make the GET request\n",
        "response = requests.get(url)\n",
        "\n",
        "# Check the status code\n",
        "if response.status_code == 200:\n",
        "    print(\"API request successful!\")\n",
        "else:\n",
        "    print(f\"Failed to retrieve data: {response.status_code}\")"
      ],
      "id": "pY6qqMVA04MJ"
    },
    {
      "cell_type": "markdown",
      "metadata": {
        "id": "N7564Ydt04MK"
      },
      "source": [
        "### Step 2: Parsing the JSON Response"
      ],
      "id": "N7564Ydt04MK"
    },
    {
      "cell_type": "code",
      "execution_count": null,
      "metadata": {
        "id": "VnNhC0LN04MK"
      },
      "outputs": [],
      "source": [
        "# Parse the JSON response\n",
        "university_data = response.json()\n",
        "\n",
        "# Pretty-print the first university\n",
        "print(json.dumps(university_data[0], indent=2))"
      ],
      "id": "VnNhC0LN04MK"
    },
    {
      "cell_type": "markdown",
      "metadata": {
        "id": "LpvYuFhm04MK"
      },
      "source": [
        "### Step 3: Converting the JSON Data to a DataFrame"
      ],
      "id": "LpvYuFhm04MK"
    },
    {
      "cell_type": "code",
      "execution_count": null,
      "metadata": {
        "id": "6TXNwd7L04MK"
      },
      "outputs": [],
      "source": [
        "# Convert JSON data to a DataFrame\n",
        "df = pd.DataFrame(university_data)\n",
        "\n",
        "# Display the first few rows of the DataFrame\n",
        "print(df.head())\n",
        "df"
      ],
      "id": "6TXNwd7L04MK"
    },
    {
      "cell_type": "markdown",
      "metadata": {
        "id": "u_DHkVg004ML"
      },
      "source": [
        "### Step 4: Basic Data Analysis"
      ],
      "id": "u_DHkVg004ML"
    },
    {
      "cell_type": "code",
      "execution_count": null,
      "metadata": {
        "id": "ovs5UIKs04ML"
      },
      "outputs": [],
      "source": [
        "# Count the number of universities by state\n",
        "state_counts = df['state-province'].value_counts()\n",
        "print(state_counts)"
      ],
      "id": "ovs5UIKs04ML"
    },
    {
      "cell_type": "markdown",
      "metadata": {
        "id": "cAPYEMN304ML"
      },
      "source": [
        "### Step 5: Data Visualization"
      ],
      "id": "cAPYEMN304ML"
    },
    {
      "cell_type": "code",
      "execution_count": null,
      "metadata": {
        "id": "g7yUOl-804ML"
      },
      "outputs": [],
      "source": [
        "import matplotlib.pyplot as plt\n",
        "\n",
        "# Plot the number of universities per state\n",
        "state_counts.plot(kind='bar', figsize=(10, 6))\n",
        "plt.title(\"Number of Universities per State\")\n",
        "plt.xlabel(\"State\")\n",
        "plt.ylabel(\"Number of Universities\")\n",
        "plt.show()"
      ],
      "id": "g7yUOl-804ML"
    },
    {
      "cell_type": "markdown",
      "metadata": {
        "id": "WhSWvUWS04ML"
      },
      "source": [
        "### Step 6: Extending to Multiple Countries"
      ],
      "id": "WhSWvUWS04ML"
    },
    {
      "cell_type": "code",
      "execution_count": null,
      "metadata": {
        "id": "ctTMYEJp04ML"
      },
      "outputs": [],
      "source": [
        "countries = [\"United States\", \"Canada\", \"Australia\", \"United Kingdom\"]\n",
        "university_list = []\n",
        "\n",
        "for country in countries:\n",
        "    response = requests.get(f\"http://universities.hipolabs.com/search?country={country}\")\n",
        "    data = response.json()\n",
        "\n",
        "    for uni in data:\n",
        "        uni['country'] = country\n",
        "        university_list.append(uni)\n",
        "\n",
        "# Convert to DataFrame\n",
        "df_universities = pd.DataFrame(university_list)\n",
        "\n",
        "# Display the first few rows\n",
        "print(df_universities.head())"
      ],
      "id": "ctTMYEJp04ML"
    },
    {
      "cell_type": "markdown",
      "metadata": {
        "id": "PIgW1_1p04ML"
      },
      "source": [
        "### Step 7: Visualizing University Counts by Country"
      ],
      "id": "PIgW1_1p04ML"
    },
    {
      "cell_type": "code",
      "execution_count": null,
      "metadata": {
        "id": "TLQPcYvY04ML"
      },
      "outputs": [],
      "source": [
        "# Count the number of universities per country\n",
        "country_counts = df_universities['country'].value_counts()\n",
        "\n",
        "# Plot the data\n",
        "country_counts.plot(kind='bar', figsize=(10, 6))\n",
        "plt.title(\"Number of Universities per Country\")\n",
        "plt.xlabel(\"Country\")\n",
        "plt.ylabel(\"Number of Universities\")\n",
        "plt.show()"
      ],
      "id": "TLQPcYvY04ML"
    },
    {
      "cell_type": "markdown",
      "source": [
        "###Step 8: Customizing the Workshop\n",
        "\n",
        "You can experiment further by:\n",
        "\n",
        "\n",
        "\n",
        "*   Fetching data for specific regions.\n",
        "*   Analyzing other attributes such as university domains.\n",
        "*   Creating visualizations to compare universities in different regions.\n",
        "\n"
      ],
      "metadata": {
        "id": "b-dBnRNT1MQF"
      },
      "id": "b-dBnRNT1MQF"
    },
    {
      "cell_type": "markdown",
      "source": [
        "For the followig you will need to get your API key from  https://financeapi.net/\n",
        "Examine the demo page and sample data to be returned"
      ],
      "metadata": {
        "id": "iwD_LJNy2L7u"
      },
      "id": "iwD_LJNy2L7u"
    },
    {
      "cell_type": "code",
      "source": [
        "import json\n",
        "import pandas as pd\n",
        "import json\n",
        "import requests"
      ],
      "metadata": {
        "id": "80xOdsHQ2SzU"
      },
      "id": "80xOdsHQ2SzU",
      "execution_count": 1,
      "outputs": []
    },
    {
      "cell_type": "code",
      "source": [
        "stocks = input().split(\",\")"
      ],
      "metadata": {
        "colab": {
          "base_uri": "https://localhost:8080/"
        },
        "id": "trdtPsLMrPy_",
        "outputId": "2c4f505d-f938-453b-e24a-fc15bbfff017"
      },
      "id": "trdtPsLMrPy_",
      "execution_count": 28,
      "outputs": [
        {
          "name": "stdout",
          "output_type": "stream",
          "text": [
            "aapl,msft\n"
          ]
        }
      ]
    },
    {
      "cell_type": "code",
      "source": [
        "print(\"The stocks we will research are: \".join(stocks))"
      ],
      "metadata": {
        "colab": {
          "base_uri": "https://localhost:8080/"
        },
        "id": "NhPBWtMwrRFC",
        "outputId": "c59a4aad-9bb7-43a0-dc64-859bacd15893"
      },
      "id": "NhPBWtMwrRFC",
      "execution_count": 29,
      "outputs": [
        {
          "output_type": "stream",
          "name": "stdout",
          "text": [
            "aaplThe stocks we will research are: msft\n"
          ]
        }
      ]
    },
    {
      "cell_type": "code",
      "source": [
        "apikey = \"HzgBAKKe5Fa75A2tHzmzL6QUl5cZYZOE9VRF9gaC\"\n",
        "url = \"https://yfapi.net/v6/finance/quote\"\n",
        "\n",
        "querystring = {\"symbols\": \",\".join(stocks)}\n",
        "\n",
        "headers = {\n",
        "    'x-api-key': apikey\n",
        "}\n",
        "\n",
        "response = requests.request(\"GET\", url, headers=headers, params=querystring)\n",
        "\n",
        "print(response.text)"
      ],
      "metadata": {
        "colab": {
          "base_uri": "https://localhost:8080/"
        },
        "id": "e627CQsYrBx3",
        "outputId": "b1f4c2ff-0736-4369-81ae-a4553e21b2e1"
      },
      "id": "e627CQsYrBx3",
      "execution_count": 30,
      "outputs": [
        {
          "output_type": "stream",
          "name": "stdout",
          "text": [
            "{\"quoteResponse\":{\"result\":[{\"language\":\"en-US\",\"region\":\"US\",\"quoteType\":\"EQUITY\",\"typeDisp\":\"Equity\",\"quoteSourceName\":\"Nasdaq Real Time Price\",\"triggerable\":true,\"customPriceAlertConfidence\":\"HIGH\",\"currency\":\"USD\",\"regularMarketChange\":1.3150024,\"regularMarketTime\":1727376784,\"regularMarketDayHigh\":228.5,\"regularMarketDayRange\":\"225.41 - 228.5\",\"regularMarketDayLow\":225.41,\"regularMarketVolume\":21516332,\"regularMarketPreviousClose\":226.37,\"bid\":227.36,\"ask\":227.94,\"bidSize\":1,\"askSize\":1,\"fullExchangeName\":\"NasdaqGS\",\"financialCurrency\":\"USD\",\"regularMarketOpen\":227.3,\"averageDailyVolume3Month\":55790612,\"averageDailyVolume10Day\":76429910,\"fiftyTwoWeekLowChange\":63.604996,\"fiftyTwoWeekLowChangePercent\":0.38764623,\"fiftyTwoWeekRange\":\"164.08 - 237.23\",\"fiftyTwoWeekHighChange\":-9.544998,\"fiftyTwoWeekHighChangePercent\":-0.040235206,\"fiftyTwoWeekLow\":164.08,\"fiftyTwoWeekHigh\":237.23,\"fiftyTwoWeekChangePercent\":32.620537,\"dividendDate\":1723680000,\"hasPrePostMarketData\":true,\"firstTradeDateMilliseconds\":345479400000,\"priceHint\":2,\"exchange\":\"NMS\",\"shortName\":\"Apple Inc.\",\"longName\":\"Apple Inc.\",\"messageBoardId\":\"finmb_24937\",\"exchangeTimezoneName\":\"America/New_York\",\"exchangeTimezoneShortName\":\"EDT\",\"gmtOffSetMilliseconds\":-14400000,\"market\":\"us_market\",\"esgPopulated\":false,\"regularMarketChangePercent\":0.5809085,\"regularMarketPrice\":227.685,\"earningsTimestamp\":1722544200,\"earningsTimestampStart\":1730372340,\"earningsTimestampEnd\":1730721600,\"earningsCallTimestampStart\":1722546000,\"earningsCallTimestampEnd\":1722546000,\"isEarningsDateEstimate\":true,\"trailingAnnualDividendRate\":0.97,\"trailingPE\":34.70808,\"dividendRate\":1.0,\"trailingAnnualDividendYield\":0.0042850203,\"dividendYield\":0.44,\"epsTrailingTwelveMonths\":6.56,\"epsForward\":7.48,\"epsCurrentYear\":6.7,\"priceEpsCurrentYear\":33.982838,\"sharesOutstanding\":15204100096,\"bookValue\":4.382,\"fiftyDayAverage\":222.0468,\"fiftyDayAverageChange\":5.638199,\"fiftyDayAverageChangePercent\":0.02539194,\"twoHundredDayAverage\":196.84895,\"twoHundredDayAverageChange\":30.836044,\"twoHundredDayAverageChangePercent\":0.15664825,\"marketCap\":3461745475584,\"forwardPE\":30.43917,\"priceToBook\":51.959152,\"sourceInterval\":15,\"exchangeDataDelayedBy\":0,\"averageAnalystRating\":\"2.0 - Buy\",\"tradeable\":false,\"cryptoTradeable\":false,\"marketState\":\"REGULAR\",\"displayName\":\"Apple\",\"symbol\":\"AAPL\"},{\"language\":\"en-US\",\"region\":\"US\",\"quoteType\":\"EQUITY\",\"typeDisp\":\"Equity\",\"quoteSourceName\":\"Nasdaq Real Time Price\",\"triggerable\":true,\"customPriceAlertConfidence\":\"HIGH\",\"currency\":\"USD\",\"regularMarketChange\":-2.201294,\"regularMarketTime\":1727376782,\"regularMarketDayHigh\":435.24,\"regularMarketDayRange\":\"429.13 - 435.24\",\"regularMarketDayLow\":429.13,\"regularMarketVolume\":8313669,\"regularMarketPreviousClose\":432.11,\"bid\":429.57,\"ask\":430.22,\"bidSize\":2,\"askSize\":2,\"fullExchangeName\":\"NasdaqGS\",\"financialCurrency\":\"USD\",\"regularMarketOpen\":435.085,\"averageDailyVolume3Month\":20098431,\"averageDailyVolume10Day\":20725370,\"fiftyTwoWeekLowChange\":120.45868,\"fiftyTwoWeekLowChangePercent\":0.389267,\"fiftyTwoWeekRange\":\"309.45 - 468.35\",\"fiftyTwoWeekHighChange\":-38.441315,\"fiftyTwoWeekHighChangePercent\":-0.082078174,\"fiftyTwoWeekLow\":309.45,\"fiftyTwoWeekHigh\":468.35,\"fiftyTwoWeekChangePercent\":37.772606,\"dividendDate\":1733961600,\"hasPrePostMarketData\":true,\"firstTradeDateMilliseconds\":511108200000,\"priceHint\":2,\"exchange\":\"NMS\",\"shortName\":\"Microsoft Corporation\",\"longName\":\"Microsoft Corporation\",\"messageBoardId\":\"finmb_21835\",\"exchangeTimezoneName\":\"America/New_York\",\"exchangeTimezoneShortName\":\"EDT\",\"gmtOffSetMilliseconds\":-14400000,\"market\":\"us_market\",\"esgPopulated\":false,\"regularMarketChangePercent\":-0.5094291,\"regularMarketPrice\":429.9087,\"earningsTimestamp\":1722369600,\"earningsTimestampStart\":1729594740,\"earningsTimestampEnd\":1730116800,\"earningsCallTimestampStart\":1722375000,\"earningsCallTimestampEnd\":1722375000,\"isEarningsDateEstimate\":true,\"trailingAnnualDividendRate\":3.0,\"trailingPE\":36.432938,\"dividendRate\":3.32,\"trailingAnnualDividendYield\":0.006942677,\"dividendYield\":0.77,\"epsTrailingTwelveMonths\":11.8,\"epsForward\":15.22,\"epsCurrentYear\":13.08,\"priceEpsCurrentYear\":32.867638,\"sharesOutstanding\":7433039872,\"bookValue\":36.115,\"fiftyDayAverage\":420.4014,\"fiftyDayAverageChange\":9.507294,\"fiftyDayAverageChangePercent\":0.022614801,\"twoHundredDayAverage\":414.8203,\"twoHundredDayAverageChange\":15.088379,\"twoHundredDayAverageChangePercent\":0.036373287,\"marketCap\":3195528544256,\"forwardPE\":28.2463,\"priceToBook\":11.903881,\"sourceInterval\":15,\"exchangeDataDelayedBy\":0,\"averageAnalystRating\":\"1.7 - Buy\",\"tradeable\":false,\"cryptoTradeable\":false,\"marketState\":\"REGULAR\",\"displayName\":\"Microsoft\",\"symbol\":\"MSFT\"}],\"error\":null}}\n"
          ]
        }
      ]
    },
    {
      "cell_type": "code",
      "source": [
        "stock_json = response.json()\n",
        "for stock in stock_json['quoteResponse']['result']:\n",
        "    print(stock[\"longName\"] + \" Price:$\" + str(stock[\"regularMarketPrice\"]))\n"
      ],
      "metadata": {
        "colab": {
          "base_uri": "https://localhost:8080/"
        },
        "id": "826F09fjrcuU",
        "outputId": "6bb27dc7-c767-4b96-bdb5-8e70aef3255f"
      },
      "id": "826F09fjrcuU",
      "execution_count": 31,
      "outputs": [
        {
          "output_type": "stream",
          "name": "stdout",
          "text": [
            "Apple Inc. Price:$227.685\n",
            "Microsoft Corporation Price:$429.9087\n"
          ]
        }
      ]
    }
  ],
  "metadata": {
    "kernelspec": {
      "display_name": "Python 3",
      "language": "python",
      "name": "python3"
    },
    "language_info": {
      "codemirror_mode": {
        "name": "ipython",
        "version": 3
      },
      "file_extension": ".py",
      "mimetype": "text/x-python",
      "name": "python",
      "nbconvert_exporter": "python",
      "version": "3.8.10"
    },
    "colab": {
      "provenance": [],
      "include_colab_link": true
    }
  },
  "nbformat": 4,
  "nbformat_minor": 5
}